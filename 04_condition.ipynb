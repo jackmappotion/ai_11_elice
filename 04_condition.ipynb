{
 "cells": [
  {
   "cell_type": "code",
   "execution_count": null,
   "metadata": {},
   "outputs": [],
   "source": [
    "# 101\n",
    "# 파이썬에서 True 혹은 False를 갖는 데이터 타입은 무엇인가?"
   ]
  },
  {
   "cell_type": "code",
   "execution_count": null,
   "metadata": {},
   "outputs": [],
   "source": [
    "# 값을 예측하고 확인하자\n",
    "\n",
    "# a = 1\n",
    "# if a :\n",
    "#     print(a)\n",
    "    "
   ]
  },
  {
   "cell_type": "code",
   "execution_count": null,
   "metadata": {},
   "outputs": [],
   "source": [
    "# 값을 예측하고 확인하자\n",
    "\n",
    "# a = 0\n",
    "# if a :\n",
    "#     print(a)\n",
    "    "
   ]
  },
  {
   "cell_type": "code",
   "execution_count": null,
   "metadata": {},
   "outputs": [],
   "source": [
    "# 값을 예측하고 확인하자\n",
    "\n",
    "# a = -1\n",
    "# if a :\n",
    "#     print(a)\n",
    "    "
   ]
  },
  {
   "cell_type": "code",
   "execution_count": null,
   "metadata": {},
   "outputs": [],
   "source": [
    "# 값을 예측하고 확인하자\n",
    "# a = 0\n",
    "# b = 1\n",
    "\n",
    "# if a != 0 & b / a:\n",
    "#     print(\"Done\")\n",
    "\n",
    "# if a != 0 and b / a:\n",
    "#     print(\"Done\")"
   ]
  },
  {
   "cell_type": "code",
   "execution_count": null,
   "metadata": {},
   "outputs": [],
   "source": [
    "# 110\n",
    "# 아래 코드의 출력 결과를 예상하라\n",
    "\n",
    "# if True :\n",
    "#     if False:\n",
    "#         print(\"1\")\n",
    "#         print(\"2\")\n",
    "#     else:\n",
    "#         print(\"3\")\n",
    "# else :\n",
    "#     print(\"4\")\n",
    "# print(\"5\")"
   ]
  },
  {
   "cell_type": "code",
   "execution_count": null,
   "metadata": {},
   "outputs": [],
   "source": [
    "# 122\n",
    "# 점수 구간에 해당하는 학점이 아래와 같이 정의되어 있다. 사용자로부터 score를 입력받아 학점을 출력하라.\n",
    "\n",
    "# 점수\t학점\n",
    "# 81~100 A\n",
    "# 61~80\tB\n",
    "# 41~60\tC\n",
    "# 21~40\tD\n",
    "# 0~20\tE\n",
    "\n",
    "# score = 93\n",
    "# > grade is A"
   ]
  }
 ],
 "metadata": {
  "kernelspec": {
   "display_name": "quant_trading",
   "language": "python",
   "name": "python3"
  },
  "language_info": {
   "codemirror_mode": {
    "name": "ipython",
    "version": 3
   },
   "file_extension": ".py",
   "mimetype": "text/x-python",
   "name": "python",
   "nbconvert_exporter": "python",
   "pygments_lexer": "ipython3",
   "version": "3.1.undefined"
  }
 },
 "nbformat": 4,
 "nbformat_minor": 2
}
