{
 "cells": [
  {
   "cell_type": "code",
   "execution_count": null,
   "metadata": {},
   "outputs": [],
   "source": [
    "# 001 print 기초\n",
    "# 화면에 Hello World 문자열을 출력하세요."
   ]
  },
  {
   "cell_type": "code",
   "execution_count": null,
   "metadata": {},
   "outputs": [],
   "source": [
    "# 002 print 기초\n",
    "# 화면에 Mary's cosmetics을 출력하세요. \n",
    "# (중간에 '가 있음에 주의하세요)"
   ]
  },
  {
   "cell_type": "code",
   "execution_count": null,
   "metadata": {},
   "outputs": [],
   "source": [
    "# 003 print 기초\n",
    "# 화면에 아래 문장을 출력하세요. \n",
    "# 본인은 \"데이터 엔지니어다.\"\n",
    "# (중간에 \"가 있음에 주의하세요.)"
   ]
  }
 ],
 "metadata": {
  "language_info": {
   "name": "python"
  }
 },
 "nbformat": 4,
 "nbformat_minor": 2
}
